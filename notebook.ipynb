{
 "cells": [
  {
   "cell_type": "markdown",
   "metadata": {},
   "source": [
    "## Setup"
   ]
  },
  {
   "cell_type": "code",
   "execution_count": 18,
   "metadata": {},
   "outputs": [],
   "source": [
    "from assertpy import assert_that\n",
    "import re"
   ]
  },
  {
   "cell_type": "markdown",
   "metadata": {},
   "source": [
    "## Solutions"
   ]
  },
  {
   "cell_type": "markdown",
   "metadata": {},
   "source": [
    "### [#259](https://buttondown.email/cassidoo/archive/science-is-not-a-boys-game-its-not-a-girls-game/) Given an integer n, count the total number of 1 digits appearing in all non-negative integers less than or equal to n.\n",
    "\n",
    "**Example**\n",
    "```js\n",
    "> numberOfOnes(14)\n",
    "> 7 // 1, 10, 11, 12, 13, 14\n",
    "```"
   ]
  },
  {
   "cell_type": "code",
   "execution_count": 3,
   "metadata": {},
   "outputs": [
    {
     "data": {
      "text/plain": [
       "<assertpy.assertpy.AssertionBuilder at 0x1069f85e0>"
      ]
     },
     "execution_count": 3,
     "metadata": {},
     "output_type": "execute_result"
    }
   ],
   "source": [
    "# Function\n",
    "def number_of_ones(n: int):\n",
    "  sum = 0\n",
    "  for i in range(n+1):\n",
    "    sum += str(i).count('1')\n",
    "  return sum\n",
    "# Tests\n",
    "assert_that(number_of_ones(0)).is_equal_to(0)\n",
    "assert_that(number_of_ones(7)).is_equal_to(1)\n",
    "assert_that(number_of_ones(14)).is_equal_to(7)\n",
    "assert_that(number_of_ones(30)).is_equal_to(13)"
   ]
  },
  {
   "cell_type": "markdown",
   "metadata": {},
   "source": [
    "### [#258](https://buttondown.email/cassidoo/archive/discovering-the-truth-about-ourselves-is-a/) Given two arrays A and B, return the indices at which the two arrays intersect. If the two arrays have no intersection at all, return null. \n",
    "\n",
    "> Extra credit: how would you change your code if they were linked lists instead of arrays, if the input were the two head nodes, and you returned the intersection node?\n",
    "\n",
    "**Example**\n",
    "```js\n",
    "let listA = [1,4,5,6]\n",
    "let listB = [2,3,4,5,6]\n",
    "\n",
    "> findIntersection(listA, listB)\n",
    "> [1, 2]\n",
    "```\n"
   ]
  },
  {
   "cell_type": "code",
   "execution_count": 17,
   "metadata": {},
   "outputs": [
    {
     "data": {
      "text/plain": [
       "<assertpy.assertpy.AssertionBuilder at 0x106813190>"
      ]
     },
     "execution_count": 17,
     "metadata": {},
     "output_type": "execute_result"
    }
   ],
   "source": [
    "def find_intersection(list_a: list, list_b: list):\n",
    "  i = 0\n",
    "  while i < list_a.__len__():\n",
    "    val = list_a[i]\n",
    "    if (val in list_b): return [i, list_b.index(val)]\n",
    "    else: i += 1\n",
    "    continue\n",
    "  return None\n",
    "\n",
    "# Test cases\n",
    "list_1 = [1,4,5,6]\n",
    "list_2 = [2,3,4,5,6]\n",
    "list_3 = [5,6,2,1,0,4]\n",
    "list_4 = [14,3,51,25,14,9]\n",
    "list_5 = [9]\n",
    "assert_that(find_intersection(list_1, list_2)).is_equal_to([1,2])\n",
    "assert_that(find_intersection(list_1, list_3)).is_equal_to([0,3])\n",
    "assert_that(find_intersection(list_2, list_4)).is_equal_to([1,1])\n",
    "assert_that(find_intersection(list_4, list_5)).is_equal_to([5,0])\n",
    "assert_that(find_intersection(list_1, list_4)).is_none()"
   ]
  },
  {
   "cell_type": "markdown",
   "metadata": {},
   "source": [
    "### [#257](https://buttondown.email/cassidoo/archive/if-one-is-lucky-a-solitary-fantasy-can-totally/) Given a string that has a valid email address, write a function to hide the first part of the email (before the @ sign), minus the first and last character. \n",
    "\n",
    "> For extra credit, add a flag to hide the second part after the @ sign to your function excluding the first character and the domain extension.\n",
    "\n",
    "**Examples**\n",
    "\n",
    "```js\n",
    "> hideEmail('example@example.com')\n",
    "> 'e*****e@example.com'\n",
    "\n",
    "> hideEmail('example+test@example.co.uk', hideFull)\n",
    "> 'e**********t@e******.co.uk'\n",
    "```"
   ]
  },
  {
   "cell_type": "code",
   "execution_count": 86,
   "metadata": {},
   "outputs": [
    {
     "data": {
      "text/plain": [
       "<assertpy.assertpy.AssertionBuilder at 0x1072ec340>"
      ]
     },
     "execution_count": 86,
     "metadata": {},
     "output_type": "execute_result"
    }
   ],
   "source": [
    "def hide_email(email: str, hide_full: bool = False):\n",
    "  [name, end] = email.split(\"@\")\n",
    "  [domain, *ext] = end.split(\".\")\n",
    "\n",
    "  name = name[0] + re.sub(r\".\", \"*\", name[1:-1]) + name[-1]\n",
    "\n",
    "  domain = domain[0] + re.sub(r\".\", \"*\", domain[1:]) if hide_full else domain\n",
    "  \n",
    "  return f\"{name}@{domain}.{'.'.join(ext)}\"\n",
    "\n",
    "assert_that(hide_email(\"example@example.com\")).is_equal_to(\"e*****e@example.com\")\n",
    "assert_that(hide_email(\"example@example.com\", hide_full=True)).is_equal_to(\"e*****e@e******.com\")\n",
    "assert_that(hide_email(\"example+test@example.co.uk\")).is_equal_to(\"e**********t@example.co.uk\")\n",
    "assert_that(hide_email(\"example+test@example.co.uk\", hide_full=True)).is_equal_to(\"e**********t@e******.co.uk\")"
   ]
  }
 ],
 "metadata": {
  "kernelspec": {
   "display_name": "Python 3.9.13 64-bit",
   "language": "python",
   "name": "python3"
  },
  "language_info": {
   "codemirror_mode": {
    "name": "ipython",
    "version": 3
   },
   "file_extension": ".py",
   "mimetype": "text/x-python",
   "name": "python",
   "nbconvert_exporter": "python",
   "pygments_lexer": "ipython3",
   "version": "3.9.13"
  },
  "orig_nbformat": 4,
  "vscode": {
   "interpreter": {
    "hash": "b0fa6594d8f4cbf19f97940f81e996739fb7646882a419484c72d19e05852a7e"
   }
  }
 },
 "nbformat": 4,
 "nbformat_minor": 2
}
